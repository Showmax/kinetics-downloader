{
 "cells": [
  {
   "cell_type": "code",
   "execution_count": 28,
   "metadata": {},
   "outputs": [
    {
     "data": {
      "text/html": [
       "\n",
       "    <div class=\"bk-root\">\n",
       "        <a href=\"https://bokeh.pydata.org\" target=\"_blank\" class=\"bk-logo bk-logo-small bk-logo-notebook\"></a>\n",
       "        <span id=\"2908\">Loading BokehJS ...</span>\n",
       "    </div>"
      ]
     },
     "metadata": {},
     "output_type": "display_data"
    },
    {
     "data": {
      "application/javascript": [
       "\n",
       "(function(root) {\n",
       "  function now() {\n",
       "    return new Date();\n",
       "  }\n",
       "\n",
       "  var force = true;\n",
       "\n",
       "  if (typeof root._bokeh_onload_callbacks === \"undefined\" || force === true) {\n",
       "    root._bokeh_onload_callbacks = [];\n",
       "    root._bokeh_is_loading = undefined;\n",
       "  }\n",
       "\n",
       "  var JS_MIME_TYPE = 'application/javascript';\n",
       "  var HTML_MIME_TYPE = 'text/html';\n",
       "  var EXEC_MIME_TYPE = 'application/vnd.bokehjs_exec.v0+json';\n",
       "  var CLASS_NAME = 'output_bokeh rendered_html';\n",
       "\n",
       "  /**\n",
       "   * Render data to the DOM node\n",
       "   */\n",
       "  function render(props, node) {\n",
       "    var script = document.createElement(\"script\");\n",
       "    node.appendChild(script);\n",
       "  }\n",
       "\n",
       "  /**\n",
       "   * Handle when an output is cleared or removed\n",
       "   */\n",
       "  function handleClearOutput(event, handle) {\n",
       "    var cell = handle.cell;\n",
       "\n",
       "    var id = cell.output_area._bokeh_element_id;\n",
       "    var server_id = cell.output_area._bokeh_server_id;\n",
       "    // Clean up Bokeh references\n",
       "    if (id != null && id in Bokeh.index) {\n",
       "      Bokeh.index[id].model.document.clear();\n",
       "      delete Bokeh.index[id];\n",
       "    }\n",
       "\n",
       "    if (server_id !== undefined) {\n",
       "      // Clean up Bokeh references\n",
       "      var cmd = \"from bokeh.io.state import curstate; print(curstate().uuid_to_server['\" + server_id + \"'].get_sessions()[0].document.roots[0]._id)\";\n",
       "      cell.notebook.kernel.execute(cmd, {\n",
       "        iopub: {\n",
       "          output: function(msg) {\n",
       "            var id = msg.content.text.trim();\n",
       "            if (id in Bokeh.index) {\n",
       "              Bokeh.index[id].model.document.clear();\n",
       "              delete Bokeh.index[id];\n",
       "            }\n",
       "          }\n",
       "        }\n",
       "      });\n",
       "      // Destroy server and session\n",
       "      var cmd = \"import bokeh.io.notebook as ion; ion.destroy_server('\" + server_id + \"')\";\n",
       "      cell.notebook.kernel.execute(cmd);\n",
       "    }\n",
       "  }\n",
       "\n",
       "  /**\n",
       "   * Handle when a new output is added\n",
       "   */\n",
       "  function handleAddOutput(event, handle) {\n",
       "    var output_area = handle.output_area;\n",
       "    var output = handle.output;\n",
       "\n",
       "    // limit handleAddOutput to display_data with EXEC_MIME_TYPE content only\n",
       "    if ((output.output_type != \"display_data\") || (!output.data.hasOwnProperty(EXEC_MIME_TYPE))) {\n",
       "      return\n",
       "    }\n",
       "\n",
       "    var toinsert = output_area.element.find(\".\" + CLASS_NAME.split(' ')[0]);\n",
       "\n",
       "    if (output.metadata[EXEC_MIME_TYPE][\"id\"] !== undefined) {\n",
       "      toinsert[toinsert.length - 1].firstChild.textContent = output.data[JS_MIME_TYPE];\n",
       "      // store reference to embed id on output_area\n",
       "      output_area._bokeh_element_id = output.metadata[EXEC_MIME_TYPE][\"id\"];\n",
       "    }\n",
       "    if (output.metadata[EXEC_MIME_TYPE][\"server_id\"] !== undefined) {\n",
       "      var bk_div = document.createElement(\"div\");\n",
       "      bk_div.innerHTML = output.data[HTML_MIME_TYPE];\n",
       "      var script_attrs = bk_div.children[0].attributes;\n",
       "      for (var i = 0; i < script_attrs.length; i++) {\n",
       "        toinsert[toinsert.length - 1].firstChild.setAttribute(script_attrs[i].name, script_attrs[i].value);\n",
       "      }\n",
       "      // store reference to server id on output_area\n",
       "      output_area._bokeh_server_id = output.metadata[EXEC_MIME_TYPE][\"server_id\"];\n",
       "    }\n",
       "  }\n",
       "\n",
       "  function register_renderer(events, OutputArea) {\n",
       "\n",
       "    function append_mime(data, metadata, element) {\n",
       "      // create a DOM node to render to\n",
       "      var toinsert = this.create_output_subarea(\n",
       "        metadata,\n",
       "        CLASS_NAME,\n",
       "        EXEC_MIME_TYPE\n",
       "      );\n",
       "      this.keyboard_manager.register_events(toinsert);\n",
       "      // Render to node\n",
       "      var props = {data: data, metadata: metadata[EXEC_MIME_TYPE]};\n",
       "      render(props, toinsert[toinsert.length - 1]);\n",
       "      element.append(toinsert);\n",
       "      return toinsert\n",
       "    }\n",
       "\n",
       "    /* Handle when an output is cleared or removed */\n",
       "    events.on('clear_output.CodeCell', handleClearOutput);\n",
       "    events.on('delete.Cell', handleClearOutput);\n",
       "\n",
       "    /* Handle when a new output is added */\n",
       "    events.on('output_added.OutputArea', handleAddOutput);\n",
       "\n",
       "    /**\n",
       "     * Register the mime type and append_mime function with output_area\n",
       "     */\n",
       "    OutputArea.prototype.register_mime_type(EXEC_MIME_TYPE, append_mime, {\n",
       "      /* Is output safe? */\n",
       "      safe: true,\n",
       "      /* Index of renderer in `output_area.display_order` */\n",
       "      index: 0\n",
       "    });\n",
       "  }\n",
       "\n",
       "  // register the mime type if in Jupyter Notebook environment and previously unregistered\n",
       "  if (root.Jupyter !== undefined) {\n",
       "    var events = require('base/js/events');\n",
       "    var OutputArea = require('notebook/js/outputarea').OutputArea;\n",
       "\n",
       "    if (OutputArea.prototype.mime_types().indexOf(EXEC_MIME_TYPE) == -1) {\n",
       "      register_renderer(events, OutputArea);\n",
       "    }\n",
       "  }\n",
       "\n",
       "  \n",
       "  if (typeof (root._bokeh_timeout) === \"undefined\" || force === true) {\n",
       "    root._bokeh_timeout = Date.now() + 5000;\n",
       "    root._bokeh_failed_load = false;\n",
       "  }\n",
       "\n",
       "  var NB_LOAD_WARNING = {'data': {'text/html':\n",
       "     \"<div style='background-color: #fdd'>\\n\"+\n",
       "     \"<p>\\n\"+\n",
       "     \"BokehJS does not appear to have successfully loaded. If loading BokehJS from CDN, this \\n\"+\n",
       "     \"may be due to a slow or bad network connection. Possible fixes:\\n\"+\n",
       "     \"</p>\\n\"+\n",
       "     \"<ul>\\n\"+\n",
       "     \"<li>re-rerun `output_notebook()` to attempt to load from CDN again, or</li>\\n\"+\n",
       "     \"<li>use INLINE resources instead, as so:</li>\\n\"+\n",
       "     \"</ul>\\n\"+\n",
       "     \"<code>\\n\"+\n",
       "     \"from bokeh.resources import INLINE\\n\"+\n",
       "     \"output_notebook(resources=INLINE)\\n\"+\n",
       "     \"</code>\\n\"+\n",
       "     \"</div>\"}};\n",
       "\n",
       "  function display_loaded() {\n",
       "    var el = document.getElementById(\"2908\");\n",
       "    if (el != null) {\n",
       "      el.textContent = \"BokehJS is loading...\";\n",
       "    }\n",
       "    if (root.Bokeh !== undefined) {\n",
       "      if (el != null) {\n",
       "        el.textContent = \"BokehJS \" + root.Bokeh.version + \" successfully loaded.\";\n",
       "      }\n",
       "    } else if (Date.now() < root._bokeh_timeout) {\n",
       "      setTimeout(display_loaded, 100)\n",
       "    }\n",
       "  }\n",
       "\n",
       "\n",
       "  function run_callbacks() {\n",
       "    try {\n",
       "      root._bokeh_onload_callbacks.forEach(function(callback) {\n",
       "        if (callback != null)\n",
       "          callback();\n",
       "      });\n",
       "    } finally {\n",
       "      delete root._bokeh_onload_callbacks\n",
       "    }\n",
       "    console.debug(\"Bokeh: all callbacks have finished\");\n",
       "  }\n",
       "\n",
       "  function load_libs(css_urls, js_urls, callback) {\n",
       "    if (css_urls == null) css_urls = [];\n",
       "    if (js_urls == null) js_urls = [];\n",
       "\n",
       "    root._bokeh_onload_callbacks.push(callback);\n",
       "    if (root._bokeh_is_loading > 0) {\n",
       "      console.debug(\"Bokeh: BokehJS is being loaded, scheduling callback at\", now());\n",
       "      return null;\n",
       "    }\n",
       "    if (js_urls == null || js_urls.length === 0) {\n",
       "      run_callbacks();\n",
       "      return null;\n",
       "    }\n",
       "    console.debug(\"Bokeh: BokehJS not loaded, scheduling load and callback at\", now());\n",
       "    root._bokeh_is_loading = css_urls.length + js_urls.length;\n",
       "\n",
       "    function on_load() {\n",
       "      root._bokeh_is_loading--;\n",
       "      if (root._bokeh_is_loading === 0) {\n",
       "        console.debug(\"Bokeh: all BokehJS libraries/stylesheets loaded\");\n",
       "        run_callbacks()\n",
       "      }\n",
       "    }\n",
       "\n",
       "    function on_error() {\n",
       "      console.error(\"failed to load \" + url);\n",
       "    }\n",
       "\n",
       "    for (var i = 0; i < css_urls.length; i++) {\n",
       "      var url = css_urls[i];\n",
       "      const element = document.createElement(\"link\");\n",
       "      element.onload = on_load;\n",
       "      element.onerror = on_error;\n",
       "      element.rel = \"stylesheet\";\n",
       "      element.type = \"text/css\";\n",
       "      element.href = url;\n",
       "      console.debug(\"Bokeh: injecting link tag for BokehJS stylesheet: \", url);\n",
       "      document.body.appendChild(element);\n",
       "    }\n",
       "\n",
       "    for (var i = 0; i < js_urls.length; i++) {\n",
       "      var url = js_urls[i];\n",
       "      var element = document.createElement('script');\n",
       "      element.onload = on_load;\n",
       "      element.onerror = on_error;\n",
       "      element.async = false;\n",
       "      element.src = url;\n",
       "      console.debug(\"Bokeh: injecting script tag for BokehJS library: \", url);\n",
       "      document.head.appendChild(element);\n",
       "    }\n",
       "  };var element = document.getElementById(\"2908\");\n",
       "  if (element == null) {\n",
       "    console.error(\"Bokeh: ERROR: autoload.js configured with elementid '2908' but no matching script tag was found. \")\n",
       "    return false;\n",
       "  }\n",
       "\n",
       "  function inject_raw_css(css) {\n",
       "    const element = document.createElement(\"style\");\n",
       "    element.appendChild(document.createTextNode(css));\n",
       "    document.body.appendChild(element);\n",
       "  }\n",
       "\n",
       "  var js_urls = [\"https://cdn.pydata.org/bokeh/release/bokeh-1.1.0.min.js\", \"https://cdn.pydata.org/bokeh/release/bokeh-widgets-1.1.0.min.js\", \"https://cdn.pydata.org/bokeh/release/bokeh-tables-1.1.0.min.js\", \"https://cdn.pydata.org/bokeh/release/bokeh-gl-1.1.0.min.js\"];\n",
       "  var css_urls = [\"https://cdn.pydata.org/bokeh/release/bokeh-1.1.0.min.css\", \"https://cdn.pydata.org/bokeh/release/bokeh-widgets-1.1.0.min.css\", \"https://cdn.pydata.org/bokeh/release/bokeh-tables-1.1.0.min.css\"];\n",
       "\n",
       "  var inline_js = [\n",
       "    function(Bokeh) {\n",
       "      Bokeh.set_log_level(\"info\");\n",
       "    },\n",
       "    \n",
       "    function(Bokeh) {\n",
       "      \n",
       "    },\n",
       "    function(Bokeh) {} // ensure no trailing comma for IE\n",
       "  ];\n",
       "\n",
       "  function run_inline_js() {\n",
       "    \n",
       "    if ((root.Bokeh !== undefined) || (force === true)) {\n",
       "      for (var i = 0; i < inline_js.length; i++) {\n",
       "        inline_js[i].call(root, root.Bokeh);\n",
       "      }if (force === true) {\n",
       "        display_loaded();\n",
       "      }} else if (Date.now() < root._bokeh_timeout) {\n",
       "      setTimeout(run_inline_js, 100);\n",
       "    } else if (!root._bokeh_failed_load) {\n",
       "      console.log(\"Bokeh: BokehJS failed to load within specified timeout.\");\n",
       "      root._bokeh_failed_load = true;\n",
       "    } else if (force !== true) {\n",
       "      var cell = $(document.getElementById(\"2908\")).parents('.cell').data().cell;\n",
       "      cell.output_area.append_execute_result(NB_LOAD_WARNING)\n",
       "    }\n",
       "\n",
       "  }\n",
       "\n",
       "  if (root._bokeh_is_loading === 0) {\n",
       "    console.debug(\"Bokeh: BokehJS loaded, going straight to plotting\");\n",
       "    run_inline_js();\n",
       "  } else {\n",
       "    load_libs(css_urls, js_urls, function() {\n",
       "      console.debug(\"Bokeh: BokehJS plotting callback run at\", now());\n",
       "      run_inline_js();\n",
       "    });\n",
       "  }\n",
       "}(window));"
      ],
      "application/vnd.bokehjs_load.v0+json": "\n(function(root) {\n  function now() {\n    return new Date();\n  }\n\n  var force = true;\n\n  if (typeof root._bokeh_onload_callbacks === \"undefined\" || force === true) {\n    root._bokeh_onload_callbacks = [];\n    root._bokeh_is_loading = undefined;\n  }\n\n  \n\n  \n  if (typeof (root._bokeh_timeout) === \"undefined\" || force === true) {\n    root._bokeh_timeout = Date.now() + 5000;\n    root._bokeh_failed_load = false;\n  }\n\n  var NB_LOAD_WARNING = {'data': {'text/html':\n     \"<div style='background-color: #fdd'>\\n\"+\n     \"<p>\\n\"+\n     \"BokehJS does not appear to have successfully loaded. If loading BokehJS from CDN, this \\n\"+\n     \"may be due to a slow or bad network connection. Possible fixes:\\n\"+\n     \"</p>\\n\"+\n     \"<ul>\\n\"+\n     \"<li>re-rerun `output_notebook()` to attempt to load from CDN again, or</li>\\n\"+\n     \"<li>use INLINE resources instead, as so:</li>\\n\"+\n     \"</ul>\\n\"+\n     \"<code>\\n\"+\n     \"from bokeh.resources import INLINE\\n\"+\n     \"output_notebook(resources=INLINE)\\n\"+\n     \"</code>\\n\"+\n     \"</div>\"}};\n\n  function display_loaded() {\n    var el = document.getElementById(\"2908\");\n    if (el != null) {\n      el.textContent = \"BokehJS is loading...\";\n    }\n    if (root.Bokeh !== undefined) {\n      if (el != null) {\n        el.textContent = \"BokehJS \" + root.Bokeh.version + \" successfully loaded.\";\n      }\n    } else if (Date.now() < root._bokeh_timeout) {\n      setTimeout(display_loaded, 100)\n    }\n  }\n\n\n  function run_callbacks() {\n    try {\n      root._bokeh_onload_callbacks.forEach(function(callback) {\n        if (callback != null)\n          callback();\n      });\n    } finally {\n      delete root._bokeh_onload_callbacks\n    }\n    console.debug(\"Bokeh: all callbacks have finished\");\n  }\n\n  function load_libs(css_urls, js_urls, callback) {\n    if (css_urls == null) css_urls = [];\n    if (js_urls == null) js_urls = [];\n\n    root._bokeh_onload_callbacks.push(callback);\n    if (root._bokeh_is_loading > 0) {\n      console.debug(\"Bokeh: BokehJS is being loaded, scheduling callback at\", now());\n      return null;\n    }\n    if (js_urls == null || js_urls.length === 0) {\n      run_callbacks();\n      return null;\n    }\n    console.debug(\"Bokeh: BokehJS not loaded, scheduling load and callback at\", now());\n    root._bokeh_is_loading = css_urls.length + js_urls.length;\n\n    function on_load() {\n      root._bokeh_is_loading--;\n      if (root._bokeh_is_loading === 0) {\n        console.debug(\"Bokeh: all BokehJS libraries/stylesheets loaded\");\n        run_callbacks()\n      }\n    }\n\n    function on_error() {\n      console.error(\"failed to load \" + url);\n    }\n\n    for (var i = 0; i < css_urls.length; i++) {\n      var url = css_urls[i];\n      const element = document.createElement(\"link\");\n      element.onload = on_load;\n      element.onerror = on_error;\n      element.rel = \"stylesheet\";\n      element.type = \"text/css\";\n      element.href = url;\n      console.debug(\"Bokeh: injecting link tag for BokehJS stylesheet: \", url);\n      document.body.appendChild(element);\n    }\n\n    for (var i = 0; i < js_urls.length; i++) {\n      var url = js_urls[i];\n      var element = document.createElement('script');\n      element.onload = on_load;\n      element.onerror = on_error;\n      element.async = false;\n      element.src = url;\n      console.debug(\"Bokeh: injecting script tag for BokehJS library: \", url);\n      document.head.appendChild(element);\n    }\n  };var element = document.getElementById(\"2908\");\n  if (element == null) {\n    console.error(\"Bokeh: ERROR: autoload.js configured with elementid '2908' but no matching script tag was found. \")\n    return false;\n  }\n\n  function inject_raw_css(css) {\n    const element = document.createElement(\"style\");\n    element.appendChild(document.createTextNode(css));\n    document.body.appendChild(element);\n  }\n\n  var js_urls = [\"https://cdn.pydata.org/bokeh/release/bokeh-1.1.0.min.js\", \"https://cdn.pydata.org/bokeh/release/bokeh-widgets-1.1.0.min.js\", \"https://cdn.pydata.org/bokeh/release/bokeh-tables-1.1.0.min.js\", \"https://cdn.pydata.org/bokeh/release/bokeh-gl-1.1.0.min.js\"];\n  var css_urls = [\"https://cdn.pydata.org/bokeh/release/bokeh-1.1.0.min.css\", \"https://cdn.pydata.org/bokeh/release/bokeh-widgets-1.1.0.min.css\", \"https://cdn.pydata.org/bokeh/release/bokeh-tables-1.1.0.min.css\"];\n\n  var inline_js = [\n    function(Bokeh) {\n      Bokeh.set_log_level(\"info\");\n    },\n    \n    function(Bokeh) {\n      \n    },\n    function(Bokeh) {} // ensure no trailing comma for IE\n  ];\n\n  function run_inline_js() {\n    \n    if ((root.Bokeh !== undefined) || (force === true)) {\n      for (var i = 0; i < inline_js.length; i++) {\n        inline_js[i].call(root, root.Bokeh);\n      }if (force === true) {\n        display_loaded();\n      }} else if (Date.now() < root._bokeh_timeout) {\n      setTimeout(run_inline_js, 100);\n    } else if (!root._bokeh_failed_load) {\n      console.log(\"Bokeh: BokehJS failed to load within specified timeout.\");\n      root._bokeh_failed_load = true;\n    } else if (force !== true) {\n      var cell = $(document.getElementById(\"2908\")).parents('.cell').data().cell;\n      cell.output_area.append_execute_result(NB_LOAD_WARNING)\n    }\n\n  }\n\n  if (root._bokeh_is_loading === 0) {\n    console.debug(\"Bokeh: BokehJS loaded, going straight to plotting\");\n    run_inline_js();\n  } else {\n    load_libs(css_urls, js_urls, function() {\n      console.debug(\"Bokeh: BokehJS plotting callback run at\", now());\n      run_inline_js();\n    });\n  }\n}(window));"
     },
     "metadata": {},
     "output_type": "display_data"
    },
    {
     "data": {
      "text/plain": [
       "9223372036854775807"
      ]
     },
     "execution_count": 28,
     "metadata": {},
     "output_type": "execute_result"
    }
   ],
   "source": [
    "# IMPORTS\n",
    "from pathlib import Path\n",
    "import json\n",
    "import pandas as pd\n",
    "import numpy as np\n",
    "import sys\n",
    "import csv\n",
    "from collections import defaultdict, Counter\n",
    "import json\n",
    "from math import pi\n",
    "\n",
    "from bokeh.io import output_file, show, output_notebook, export_png\n",
    "from bokeh.palettes import Category20c, Category20\n",
    "from bokeh.plotting import figure\n",
    "from bokeh.transform import cumsum\n",
    "\n",
    "from IPython.display import HTML, display\n",
    "import tabulate\n",
    "\n",
    "output_notebook()\n",
    "csv.field_size_limit(sys.maxsize)"
   ]
  },
  {
   "cell_type": "code",
   "execution_count": 2,
   "metadata": {},
   "outputs": [],
   "source": [
    "# CONSTANTS\n",
    "BASE_DIR = Path.cwd().parent\n",
    "STATS_DIR = BASE_DIR / 'stats'\n",
    "KINETICS_DIR = BASE_DIR / 'work_dir' / 'kinetics_700'"
   ]
  },
  {
   "cell_type": "code",
   "execution_count": 29,
   "metadata": {},
   "outputs": [],
   "source": [
    "def plot_pie_chart(source, label):\n",
    "    data = pd.Series(source).reset_index(name='value').rename(columns={'index':'class'})\n",
    "    data['angle'] = data['value'] / data['value'].sum() * 2*pi\n",
    "    data['color'] = Category20[len(source)] if len(source) > 2 else ['#3182bd', '#fd8d3c']\n",
    "\n",
    "    p = figure(\n",
    "        plot_height=400,\n",
    "        plot_width=700,\n",
    "        title=\"{} Class Distribution\".format(label),\n",
    "        toolbar_location=None,\n",
    "        tools=\"hover\",\n",
    "        tooltips=\"@class: @value\",\n",
    "        x_range=(-0.5, 1.0)\n",
    "    )\n",
    "\n",
    "    p.wedge(\n",
    "        x=0,\n",
    "        y=1,\n",
    "        radius=0.4,\n",
    "        start_angle=cumsum('angle', include_zero=True),\n",
    "        end_angle=cumsum('angle'),\n",
    "        line_color=\"white\",\n",
    "        fill_color='color',\n",
    "        legend='class',\n",
    "        source=data\n",
    "    )\n",
    "\n",
    "    p.axis.axis_label=None\n",
    "    p.axis.visible=False\n",
    "    p.grid.grid_line_color = None\n",
    "\n",
    "    show(p)\n",
    "    \n",
    "    export_png(p, '{} pie.png'.format(label))"
   ]
  },
  {
   "cell_type": "code",
   "execution_count": 4,
   "metadata": {},
   "outputs": [],
   "source": [
    "def get_stats_files():\n",
    "    fieldnames = ['video_id', 'label', 'status', 'download_duration', 'ffmpeg_duration', 'total_duration', 'average_duration', 'elapsed', 'iteration', 'skipped_iteration', 'queue_id', 'pid']\n",
    "    stats = []\n",
    "    stats_dict = {}\n",
    "    failed = []\n",
    "    failed_dict = {} # Removes duplicates\n",
    "    session_dict = defaultdict(int)\n",
    "    for file_path in STATS_DIR.iterdir():\n",
    "        if 'csv' in file_path.suffix:\n",
    "            with file_path.open(mode='r') as lf:                \n",
    "                csv_reader = csv.DictReader(lf, delimiter=',')\n",
    "                if 'stats' in file_path.stem:\n",
    "                    for index, row in enumerate(csv_reader):\n",
    "                        session_dict[file_path.stem] += 1\n",
    "                        if row['video_id'] != 'video_id':\n",
    "                            stats.append(dict(row))\n",
    "                            stats_dict[row['video_id']] = dict(row)\n",
    "                            \n",
    "                if 'failed' in file_path.stem:\n",
    "                    csv_reader = csv.DictReader(lf, delimiter=',', fieldnames=['video_id', 'class', 'error'])\n",
    "                    for index, row in enumerate(csv_reader):\n",
    "                        failed.append(row)\n",
    "                        failed_dict[row['video_id']] = row\n",
    "    return stats_dict, failed_dict, session_dict\n",
    "stat_results, failed, session_dict = get_stats_files()"
   ]
  },
  {
   "cell_type": "code",
   "execution_count": 5,
   "metadata": {},
   "outputs": [
    {
     "name": "stdout",
     "output_type": "stream",
     "text": [
      "298651 15541\n"
     ]
    }
   ],
   "source": [
    "print(len(stat_results.keys()), len(failed.keys()))"
   ]
  },
  {
   "cell_type": "code",
   "execution_count": 6,
   "metadata": {},
   "outputs": [],
   "source": [
    "def read_results_file(source):\n",
    "#     pd_json = pd.read_json(RESULTS_PATH)\n",
    "    with source.open(mode='r') as results_json:\n",
    "        data = json.load(results_json)\n",
    "    return data\n",
    "\n",
    "results_data = read_results_file(STATS_DIR / 'result.json')\n",
    "# print(pd_json.head())"
   ]
  },
  {
   "cell_type": "code",
   "execution_count": 7,
   "metadata": {},
   "outputs": [
    {
     "name": "stdout",
     "output_type": "stream",
     "text": [
      "646257\n"
     ]
    }
   ],
   "source": [
    "print(len(results_data.keys()))"
   ]
  },
  {
   "cell_type": "code",
   "execution_count": 8,
   "metadata": {},
   "outputs": [],
   "source": [
    "def read_kinetics_data():\n",
    "    all_data = {}\n",
    "    for f1 in KINETICS_DIR.iterdir():\n",
    "        if f1.stem in ['test', 'train', 'val']:\n",
    "            for f2 in f1.iterdir():\n",
    "                if f2.suffix == '.json':\n",
    "                    data = read_results_file(f2)\n",
    "                    all_data.update(data)\n",
    "    return all_data\n",
    "            \n",
    "\n",
    "kinetics_data = read_kinetics_data()    "
   ]
  },
  {
   "cell_type": "code",
   "execution_count": 23,
   "metadata": {},
   "outputs": [
    {
     "name": "stdout",
     "output_type": "stream",
     "text": [
      "646984\n",
      "('---v8pgm1eQ.mp4', {'folder': 'test', 'size': 478876})\n"
     ]
    }
   ],
   "source": [
    "print(len(kinetics_data.keys()))\n",
    "print(list(results_data.items())[0])\n",
    "results_keys_dict = {Path(key).stem: value for key, value in results_data.items() if Path(key).suffix == '.mp4'}\n",
    "kinetics_keys_dict = {key: True for key in kinetics_data.keys()}"
   ]
  },
  {
   "cell_type": "markdown",
   "metadata": {},
   "source": [
    "## Generate Error"
   ]
  },
  {
   "cell_type": "code",
   "execution_count": 10,
   "metadata": {},
   "outputs": [],
   "source": [
    "def generate_unique_error(failed_list):\n",
    "    unique_error = set([item['error'] for item in failed_list if not results_keys_dict.get(item['video_id'])])\n",
    "    filtered_error = []\n",
    "    error_dict = defaultdict(list)\n",
    "    for index, item in enumerate(unique_error):\n",
    "        if 'Got server HTTP error: HTTP Error 404: Not Found.' in item:\n",
    "            filtered_error.append('HTTP Error 404')\n",
    "            error_dict['HTTP Error 404'].append(item)\n",
    "        \n",
    "        elif 'copyright' in item:\n",
    "            filtered_error.append('Copyright')\n",
    "            error_dict['Copyright'].append(item)\n",
    "            \n",
    "        elif 'This video is unavailable' in item or 'no longer available' in item or 'is not available' in item or 'this video available' in item:\n",
    "            filtered_error.append('Video Not Available')\n",
    "            error_dict['Video Not Available'].append(item)\n",
    "            \n",
    "#         elif 'who has blocked it on copyright grounds.' in item:\n",
    "#             filtered_error.append('who has blocked it on copyright grounds.')\n",
    "#             error_dict['who has blocked it on copyright grounds.'].append(item)\n",
    "            \n",
    "#         elif 'This video is no longer available due to a copyright claim by' in item:\n",
    "#             filtered_error.append('This video is no longer available due to a copyright claim by')\n",
    "#             error_dict['This video is no longer available due to a copyright claim by'].append(item)\n",
    "            \n",
    "#         elif 'unable to download video data: Remote end closed connection without response' in item:\n",
    "#             filtered_error.append('unable to download video data: Remote end closed connection without response')\n",
    "#             error_dict['unable to download video data: Remote end closed connection without response'].append(item)\n",
    "            \n",
    "#         elif 'It is not available in your country.' in item:\n",
    "#             filtered_error.append('It is not available in your country.')\n",
    "#             error_dict['It is not available in your country.'].append(item)\n",
    "            \n",
    "#         elif 'This video is not available.' in item:\n",
    "#             filtered_error.append('This video is not available.')\n",
    "#             error_dict['This video is not available.'].append(item)\n",
    "            \n",
    "#         elif 'The uploader has not made this video available in your country.' in item:\n",
    "#             filtered_error.append('The uploader has not made this video available in your country.')\n",
    "#             error_dict['The uploader has not made this video available in your country.'].append(item)\n",
    "            \n",
    "#         elif 'This video is no longer available due to a privacy claim by a third party.' in item:\n",
    "#             filtered_error.append('This video is no longer available due to a privacy claim by a third party.')\n",
    "#             error_dict['This video is no longer available due to a privacy claim by a third party.'].append(item)\n",
    "            \n",
    "#         elif 'This video is no longer available because the YouTube account associated with this video has been terminated.' in item:\n",
    "#             filtered_error.append('This video is no longer available because the YouTube account associated with this video has been terminated.')\n",
    "#             error_dict['This video is no longer available because the YouTube account associated with this video has been terminated.'].append(item)\n",
    "            \n",
    "#         elif 'who has blocked it in your country on copyright grounds' in item:\n",
    "#             filtered_error.append('who has blocked it in your country on copyright grounds')\n",
    "#             error_dict['who has blocked it in your country on copyright grounds'].append(item)\n",
    "            \n",
    "#         elif 'The YouTube account associated with this video has been terminated due to multiple third-party notifications of copyright infringement.' in item:\n",
    "#             filtered_error.append('The YouTube account associated with this video has been terminated due to multiple third-party notifications of copyright infringement.')\n",
    "#             error_dict['The YouTube account associated with this video has been terminated due to multiple third-party notifications of copyright infringement.'].append(item)\n",
    "        \n",
    "#         elif 'unable to download video data: The read operation timed out' in item:\n",
    "#             filtered_error.append('unable to download video data: The read operation timed out')\n",
    "#             error_dict['unable to download video data: The read operation timed out'].append(item)\n",
    "            \n",
    "#         elif \"This video has been removed for violating YouTube's Community Guidelines.\" in item:\n",
    "#             filtered_error.append(\"This video has been removed for violating YouTube's Community Guidelines.\")\n",
    "#             error_dict[\"This video has been removed for violating YouTube's Community Guidelines.\"].append(item)\n",
    "            \n",
    "#         elif \"This video is unavailable.\" in item:\n",
    "#             filtered_error.append(\"This video is unavailable.\")\n",
    "#             error_dict[\"This video is unavailable.\"].append(item)\n",
    "            \n",
    "#         elif \"This video is not available\" in item:\n",
    "#             filtered_error.append(\"This video is not available\")\n",
    "#             error_dict[\"This video is not available\"].append(item)\n",
    "            \n",
    "        elif \"Got server HTTP error: HTTP Error 503: Service Unavailable\" in item:\n",
    "            filtered_error.append(\"HTTP Error 503\")\n",
    "            error_dict[\"HTTP Error 503\"].append(item)\n",
    "            \n",
    "#         elif \"object has no attribute\" in item:\n",
    "#             filtered_error.append(\"object has no attribute\")\n",
    "#             error_dict[\"object has no attribute\"].append(item)\n",
    "            \n",
    "        elif \"Content Warning\" in item:\n",
    "            filtered_error.append(\"Content Warning\")\n",
    "            error_dict[\"Content Warning\"].append(item)\n",
    "        \n",
    "        elif \"This video has been removed by the user\" in item:\n",
    "            filtered_error.append(\"Video Removed By User\")\n",
    "            error_dict[\"Video Removed By User\"].append(item)\n",
    "            \n",
    "#         elif \"This video is no longer available because the uploader has closed their YouTube account.\" in item:\n",
    "#             filtered_error.append(\"This video is no longer available because the uploader has closed their YouTube account.\")\n",
    "#             error_dict[\"This video is no longer available because the uploader has closed their YouTube account.\"].append(item)\n",
    "        \n",
    "#         elif \"This video has been removed for violating YouTube's policy on nudity or sexual content.\" in item:\n",
    "#             filtered_error.append(\"This video has been removed for violating YouTube's policy on nudity or sexual content.\")\n",
    "#             error_dict[\"This video has been removed for violating YouTube's policy on nudity or sexual content.\"].append(item)\n",
    "        \n",
    "#         elif \"Name or service not known\" in item:\n",
    "#             filtered_error.append(\"Name or service not known\")\n",
    "#             error_dict[\"Name or service not known\"].append(item)\n",
    "            \n",
    "#         elif \"Unable to download webpage: Remote end closed connection without response\" in item:\n",
    "#             filtered_error.append(\"Unable to download webpage: Remote end closed connection without response\")\n",
    "#             error_dict[\"Unable to download webpage: Remote end closed connection without response\"].append(item)\n",
    "        \n",
    "#         elif \"This video has been removed for violating YouTube's policy on spam, deceptive practices, and scams.\" in item:\n",
    "#             filtered_error.append(\"This video has been removed for violating YouTube's policy on spam, deceptive practices, and scams.\")\n",
    "#             error_dict[\"This video has been removed for violating YouTube's policy on spam, deceptive practices, and scams.\"].append(item)\n",
    "        \n",
    "        elif 'been removed for violating' in item:\n",
    "            filtered_error.append(\"Violating YouTube's Terms\")\n",
    "            error_dict[\"Violating YouTube's Terms\"].append(item)\n",
    "            \n",
    "        elif 'nable to download' in item or \"object has no attribute\" in item or 'Name or service not known' in item:\n",
    "            filtered_error.append(\"Miscellaneous\")\n",
    "            error_dict[\"Miscellaneous\"].append(item)\n",
    "            \n",
    "        elif \"duplicate\" in item:\n",
    "            filtered_error.append(\"Duplicate Video\")\n",
    "            error_dict[\"Duplicate Video\"].append(item)\n",
    "            \n",
    "        else:\n",
    "            filtered_error.append(item.split(\"ERROR\")[-1])\n",
    "            error_dict[item.split(\"ERROR\")[-1]].append(item)\n",
    "            \n",
    "    return set(filtered_error), error_dict\n",
    "\n",
    "filtered_error, error_dict = generate_unique_error(list(failed.values()))"
   ]
  },
  {
   "cell_type": "code",
   "execution_count": 11,
   "metadata": {},
   "outputs": [
    {
     "name": "stdout",
     "output_type": "stream",
     "text": [
      "Total Errors =  9\n",
      "Content Warning = 2451\n",
      "Video Not Available = 10696\n",
      "Video Removed By User = 337\n",
      "HTTP Error 404 = 943\n",
      "Copyright = 672\n",
      "Violating YouTube's Terms = 134\n",
      "Miscellaneous = 144\n",
      "HTTP Error 503 = 1\n",
      "Duplicate Video = 2\n"
     ]
    },
    {
     "data": {
      "text/html": [
       "\n",
       "\n",
       "\n",
       "\n",
       "\n",
       "\n",
       "  <div class=\"bk-root\" id=\"f68cad2f-bc28-4751-ba2d-b8c92c633cc8\" data-root-id=\"1002\"></div>\n"
      ]
     },
     "metadata": {},
     "output_type": "display_data"
    },
    {
     "data": {
      "application/javascript": [
       "(function(root) {\n",
       "  function embed_document(root) {\n",
       "    \n",
       "  var docs_json = {\"47b28fe2-0e1a-43bd-940d-0d83857859b6\":{\"roots\":{\"references\":[{\"attributes\":{\"below\":[{\"id\":\"1013\",\"type\":\"LinearAxis\"}],\"center\":[{\"id\":\"1017\",\"type\":\"Grid\"},{\"id\":\"1022\",\"type\":\"Grid\"},{\"id\":\"1039\",\"type\":\"Legend\"}],\"left\":[{\"id\":\"1018\",\"type\":\"LinearAxis\"}],\"plot_height\":400,\"plot_width\":700,\"renderers\":[{\"id\":\"1032\",\"type\":\"GlyphRenderer\"}],\"title\":{\"id\":\"1003\",\"type\":\"Title\"},\"toolbar\":{\"id\":\"1024\",\"type\":\"Toolbar\"},\"toolbar_location\":null,\"x_range\":{\"id\":\"1005\",\"type\":\"Range1d\"},\"x_scale\":{\"id\":\"1009\",\"type\":\"LinearScale\"},\"y_range\":{\"id\":\"1007\",\"type\":\"DataRange1d\"},\"y_scale\":{\"id\":\"1011\",\"type\":\"LinearScale\"}},\"id\":\"1002\",\"subtype\":\"Figure\",\"type\":\"Plot\"},{\"attributes\":{},\"id\":\"1047\",\"type\":\"UnionRenderers\"},{\"attributes\":{},\"id\":\"1011\",\"type\":\"LinearScale\"},{\"attributes\":{\"items\":[{\"id\":\"1040\",\"type\":\"LegendItem\"}]},\"id\":\"1039\",\"type\":\"Legend\"},{\"attributes\":{\"grid_line_color\":{\"value\":null},\"ticker\":{\"id\":\"1014\",\"type\":\"BasicTicker\"}},\"id\":\"1017\",\"type\":\"Grid\"},{\"attributes\":{\"active_drag\":\"auto\",\"active_inspect\":\"auto\",\"active_multi\":null,\"active_scroll\":\"auto\",\"active_tap\":\"auto\",\"tools\":[{\"id\":\"1023\",\"type\":\"HoverTool\"}]},\"id\":\"1024\",\"type\":\"Toolbar\"},{\"attributes\":{\"callback\":null,\"tooltips\":\"@class: @value\"},\"id\":\"1023\",\"type\":\"HoverTool\"},{\"attributes\":{},\"id\":\"1014\",\"type\":\"BasicTicker\"},{\"attributes\":{\"text\":\"Error Class Distribution\"},\"id\":\"1003\",\"type\":\"Title\"},{\"attributes\":{},\"id\":\"1009\",\"type\":\"LinearScale\"},{\"attributes\":{\"axis_label\":null,\"formatter\":{\"id\":\"1036\",\"type\":\"BasicTickFormatter\"},\"ticker\":{\"id\":\"1014\",\"type\":\"BasicTicker\"},\"visible\":false},\"id\":\"1013\",\"type\":\"LinearAxis\"},{\"attributes\":{\"label\":{\"field\":\"class\"},\"renderers\":[{\"id\":\"1032\",\"type\":\"GlyphRenderer\"}]},\"id\":\"1040\",\"type\":\"LegendItem\"},{\"attributes\":{\"callback\":null,\"start\":-0.5},\"id\":\"1005\",\"type\":\"Range1d\"},{\"attributes\":{\"field\":\"angle\",\"include_zero\":true},\"id\":\"1026\",\"type\":\"CumSum\"},{\"attributes\":{\"axis_label\":null,\"formatter\":{\"id\":\"1038\",\"type\":\"BasicTickFormatter\"},\"ticker\":{\"id\":\"1019\",\"type\":\"BasicTicker\"},\"visible\":false},\"id\":\"1018\",\"type\":\"LinearAxis\"},{\"attributes\":{\"end_angle\":{\"expr\":{\"id\":\"1027\",\"type\":\"CumSum\"},\"units\":\"rad\"},\"fill_alpha\":{\"value\":0.1},\"fill_color\":{\"value\":\"#1f77b4\"},\"line_alpha\":{\"value\":0.1},\"line_color\":{\"value\":\"#1f77b4\"},\"radius\":{\"units\":\"data\",\"value\":0.4},\"start_angle\":{\"expr\":{\"id\":\"1026\",\"type\":\"CumSum\"},\"units\":\"rad\"},\"x\":{\"value\":0},\"y\":{\"value\":1}},\"id\":\"1031\",\"type\":\"Wedge\"},{\"attributes\":{\"end_angle\":{\"expr\":{\"id\":\"1027\",\"type\":\"CumSum\"},\"units\":\"rad\"},\"fill_color\":{\"field\":\"color\"},\"line_color\":{\"value\":\"white\"},\"radius\":{\"units\":\"data\",\"value\":0.4},\"start_angle\":{\"expr\":{\"id\":\"1026\",\"type\":\"CumSum\"},\"units\":\"rad\"},\"x\":{\"value\":0},\"y\":{\"value\":1}},\"id\":\"1030\",\"type\":\"Wedge\"},{\"attributes\":{},\"id\":\"1036\",\"type\":\"BasicTickFormatter\"},{\"attributes\":{},\"id\":\"1019\",\"type\":\"BasicTicker\"},{\"attributes\":{\"dimension\":1,\"grid_line_color\":{\"value\":null},\"ticker\":{\"id\":\"1019\",\"type\":\"BasicTicker\"}},\"id\":\"1022\",\"type\":\"Grid\"},{\"attributes\":{},\"id\":\"1038\",\"type\":\"BasicTickFormatter\"},{\"attributes\":{},\"id\":\"1046\",\"type\":\"Selection\"},{\"attributes\":{\"field\":\"angle\"},\"id\":\"1027\",\"type\":\"CumSum\"},{\"attributes\":{\"source\":{\"id\":\"1028\",\"type\":\"ColumnDataSource\"}},\"id\":\"1033\",\"type\":\"CDSView\"},{\"attributes\":{\"callback\":null,\"data\":{\"angle\":{\"__ndarray__\":\"yTKNgFkF8D/FsMD6gHoRQLUOBjdRn8E/fNKjANSn2D9eMmE47pHRP3FWLSlFB6w/DsTv8rwerj9GrrhJ/cU6P0auuEn9xUo/\",\"dtype\":\"float64\",\"shape\":[9]},\"class\":[\"Content Warning (2451)\",\"Video Not Available (10696)\",\"Video Removed By User (337)\",\"HTTP Error 404 (943)\",\"Copyright (672)\",\"Violating YouTube's Terms (134)\",\"Miscellaneous (144)\",\"HTTP Error 503 (1)\",\"Duplicate Video (2)\"],\"color\":[\"#3182bd\",\"#6baed6\",\"#9ecae1\",\"#c6dbef\",\"#e6550d\",\"#fd8d3c\",\"#fdae6b\",\"#fdd0a2\",\"#31a354\"],\"index\":[0,1,2,3,4,5,6,7,8],\"value\":[2451,10696,337,943,672,134,144,1,2]},\"selected\":{\"id\":\"1046\",\"type\":\"Selection\"},\"selection_policy\":{\"id\":\"1047\",\"type\":\"UnionRenderers\"}},\"id\":\"1028\",\"type\":\"ColumnDataSource\"},{\"attributes\":{\"callback\":null},\"id\":\"1007\",\"type\":\"DataRange1d\"},{\"attributes\":{\"data_source\":{\"id\":\"1028\",\"type\":\"ColumnDataSource\"},\"glyph\":{\"id\":\"1030\",\"type\":\"Wedge\"},\"hover_glyph\":null,\"muted_glyph\":null,\"nonselection_glyph\":{\"id\":\"1031\",\"type\":\"Wedge\"},\"selection_glyph\":null,\"view\":{\"id\":\"1033\",\"type\":\"CDSView\"}},\"id\":\"1032\",\"type\":\"GlyphRenderer\"}],\"root_ids\":[\"1002\"]},\"title\":\"Bokeh Application\",\"version\":\"1.1.0\"}};\n",
       "  var render_items = [{\"docid\":\"47b28fe2-0e1a-43bd-940d-0d83857859b6\",\"roots\":{\"1002\":\"f68cad2f-bc28-4751-ba2d-b8c92c633cc8\"}}];\n",
       "  root.Bokeh.embed.embed_items_notebook(docs_json, render_items);\n",
       "\n",
       "  }\n",
       "  if (root.Bokeh !== undefined) {\n",
       "    embed_document(root);\n",
       "  } else {\n",
       "    var attempts = 0;\n",
       "    var timer = setInterval(function(root) {\n",
       "      if (root.Bokeh !== undefined) {\n",
       "        embed_document(root);\n",
       "        clearInterval(timer);\n",
       "      }\n",
       "      attempts++;\n",
       "      if (attempts > 100) {\n",
       "        console.log(\"Bokeh: ERROR: Unable to run BokehJS code because BokehJS library is missing\");\n",
       "        clearInterval(timer);\n",
       "      }\n",
       "    }, 10, root)\n",
       "  }\n",
       "})(window);"
      ],
      "application/vnd.bokehjs_exec.v0+json": ""
     },
     "metadata": {
      "application/vnd.bokehjs_exec.v0+json": {
       "id": "1002"
      }
     },
     "output_type": "display_data"
    }
   ],
   "source": [
    "def generate_plot():\n",
    "    print('Total Errors = ', len(filtered_error))\n",
    "    pie_dict = {}\n",
    "    for key, value in error_dict.items():\n",
    "        len_val = len(value)\n",
    "        pie_dict[\"{} ({})\".format(key, len_val)] = len_val\n",
    "        print(key, \"=\" , len_val)\n",
    "        \n",
    "    plot_pie_chart(pie_dict, 'Error')\n",
    "\n",
    "generate_plot()"
   ]
  },
  {
   "cell_type": "code",
   "execution_count": 12,
   "metadata": {},
   "outputs": [
    {
     "name": "stdout",
     "output_type": "stream",
     "text": [
      "['---v8pgm1eQ', '--0kKuQu4Gs', '--1f2DTKcwg', '--2V_kDPfDg', '--3X_T3dnAE']\n"
     ]
    }
   ],
   "source": [
    "print([key for key in list(results_keys_dict.keys())[:5] if key])"
   ]
  },
  {
   "cell_type": "code",
   "execution_count": 13,
   "metadata": {},
   "outputs": [],
   "source": [
    "results_not_in_kinetics = [key for key in results_keys_dict.keys() if not kinetics_keys_dict.get(key)]\n",
    "kinetics_not_in_results = [key for key in kinetics_keys_dict.keys() if not results_keys_dict.get(key)]\n",
    "\n",
    "# . missing_in_failed = [key for key in kinetics_not_in_results if failed_dict.get(key)]\n",
    "# failed_not_in_missing = [key for key in failed_dict.keys() if kinetics_not_in_results.get(key)]"
   ]
  },
  {
   "cell_type": "code",
   "execution_count": 14,
   "metadata": {},
   "outputs": [],
   "source": [
    "# print('results_not_in_kinetics', len(results_not_in_kinetics))\n",
    "# print('kinetics_not_in_results', len(kinetics_not_in_results), len(kinetics_not_in_results) - len(failed))\n",
    "# print('missing_in_failed', len(missing_in_failed), len(failed))"
   ]
  },
  {
   "cell_type": "markdown",
   "metadata": {},
   "source": [
    "## Total File Size (628.43 GB)"
   ]
  },
  {
   "cell_type": "code",
   "execution_count": 15,
   "metadata": {},
   "outputs": [
    {
     "name": "stdout",
     "output_type": "stream",
     "text": [
      "674766307490\n"
     ]
    }
   ],
   "source": [
    "total_file_size = sum([v['size'] for k, v in results_data.items() if Path(k).suffix == '.mp4'])\n",
    "print(total_file_size)"
   ]
  },
  {
   "cell_type": "code",
   "execution_count": 16,
   "metadata": {},
   "outputs": [
    {
     "name": "stdout",
     "output_type": "stream",
     "text": [
      "628.4250947553664\n"
     ]
    }
   ],
   "source": [
    "print(total_file_size / (1024 * 1024 * 1024))"
   ]
  },
  {
   "cell_type": "markdown",
   "metadata": {},
   "source": [
    "## Overall Stats"
   ]
  },
  {
   "cell_type": "code",
   "execution_count": 38,
   "metadata": {},
   "outputs": [
    {
     "name": "stdout",
     "output_type": "stream",
     "text": [
      "2.377183979820212 %\n"
     ]
    },
    {
     "data": {
      "text/html": [
       "\n",
       "\n",
       "\n",
       "\n",
       "\n",
       "\n",
       "  <div class=\"bk-root\" id=\"329bdfc3-b8d7-4e12-953b-35e01ca77a85\" data-root-id=\"7413\"></div>\n"
      ]
     },
     "metadata": {},
     "output_type": "display_data"
    },
    {
     "data": {
      "application/javascript": [
       "(function(root) {\n",
       "  function embed_document(root) {\n",
       "    \n",
       "  var docs_json = {\"44715255-002c-4b30-9fea-232de267d234\":{\"roots\":{\"references\":[{\"attributes\":{\"below\":[{\"id\":\"7424\",\"type\":\"LinearAxis\"}],\"center\":[{\"id\":\"7428\",\"type\":\"Grid\"},{\"id\":\"7433\",\"type\":\"Grid\"},{\"id\":\"7450\",\"type\":\"Legend\"}],\"left\":[{\"id\":\"7429\",\"type\":\"LinearAxis\"}],\"plot_height\":400,\"plot_width\":700,\"renderers\":[{\"id\":\"7443\",\"type\":\"GlyphRenderer\"}],\"title\":{\"id\":\"7414\",\"type\":\"Title\"},\"toolbar\":{\"id\":\"7435\",\"type\":\"Toolbar\"},\"toolbar_location\":null,\"x_range\":{\"id\":\"7416\",\"type\":\"Range1d\"},\"x_scale\":{\"id\":\"7420\",\"type\":\"LinearScale\"},\"y_range\":{\"id\":\"7418\",\"type\":\"DataRange1d\"},\"y_scale\":{\"id\":\"7422\",\"type\":\"LinearScale\"}},\"id\":\"7413\",\"subtype\":\"Figure\",\"type\":\"Plot\"},{\"attributes\":{\"callback\":null,\"start\":-0.5},\"id\":\"7416\",\"type\":\"Range1d\"},{\"attributes\":{\"data_source\":{\"id\":\"7439\",\"type\":\"ColumnDataSource\"},\"glyph\":{\"id\":\"7441\",\"type\":\"Wedge\"},\"hover_glyph\":null,\"muted_glyph\":null,\"nonselection_glyph\":{\"id\":\"7442\",\"type\":\"Wedge\"},\"selection_glyph\":null,\"view\":{\"id\":\"7444\",\"type\":\"CDSView\"}},\"id\":\"7443\",\"type\":\"GlyphRenderer\"},{\"attributes\":{\"end_angle\":{\"expr\":{\"id\":\"7438\",\"type\":\"CumSum\"},\"units\":\"rad\"},\"fill_color\":{\"field\":\"color\"},\"line_color\":{\"value\":\"white\"},\"radius\":{\"units\":\"data\",\"value\":0.4},\"start_angle\":{\"expr\":{\"id\":\"7437\",\"type\":\"CumSum\"},\"units\":\"rad\"},\"x\":{\"value\":0},\"y\":{\"value\":1}},\"id\":\"7441\",\"type\":\"Wedge\"},{\"attributes\":{\"end_angle\":{\"expr\":{\"id\":\"7438\",\"type\":\"CumSum\"},\"units\":\"rad\"},\"fill_alpha\":{\"value\":0.1},\"fill_color\":{\"value\":\"#1f77b4\"},\"line_alpha\":{\"value\":0.1},\"line_color\":{\"value\":\"#1f77b4\"},\"radius\":{\"units\":\"data\",\"value\":0.4},\"start_angle\":{\"expr\":{\"id\":\"7437\",\"type\":\"CumSum\"},\"units\":\"rad\"},\"x\":{\"value\":0},\"y\":{\"value\":1}},\"id\":\"7442\",\"type\":\"Wedge\"},{\"attributes\":{\"axis_label\":null,\"formatter\":{\"id\":\"7447\",\"type\":\"BasicTickFormatter\"},\"ticker\":{\"id\":\"7425\",\"type\":\"BasicTicker\"},\"visible\":false},\"id\":\"7424\",\"type\":\"LinearAxis\"},{\"attributes\":{\"dimension\":1,\"grid_line_color\":{\"value\":null},\"ticker\":{\"id\":\"7430\",\"type\":\"BasicTicker\"}},\"id\":\"7433\",\"type\":\"Grid\"},{\"attributes\":{\"label\":{\"field\":\"class\"},\"renderers\":[{\"id\":\"7443\",\"type\":\"GlyphRenderer\"}]},\"id\":\"7451\",\"type\":\"LegendItem\"},{\"attributes\":{\"callback\":null},\"id\":\"7418\",\"type\":\"DataRange1d\"},{\"attributes\":{},\"id\":\"7430\",\"type\":\"BasicTicker\"},{\"attributes\":{\"grid_line_color\":{\"value\":null},\"ticker\":{\"id\":\"7425\",\"type\":\"BasicTicker\"}},\"id\":\"7428\",\"type\":\"Grid\"},{\"attributes\":{},\"id\":\"7420\",\"type\":\"LinearScale\"},{\"attributes\":{\"field\":\"angle\",\"include_zero\":true},\"id\":\"7437\",\"type\":\"CumSum\"},{\"attributes\":{\"source\":{\"id\":\"7439\",\"type\":\"ColumnDataSource\"}},\"id\":\"7444\",\"type\":\"CDSView\"},{\"attributes\":{},\"id\":\"7425\",\"type\":\"BasicTicker\"},{\"attributes\":{},\"id\":\"7449\",\"type\":\"BasicTickFormatter\"},{\"attributes\":{\"axis_label\":null,\"formatter\":{\"id\":\"7449\",\"type\":\"BasicTickFormatter\"},\"ticker\":{\"id\":\"7430\",\"type\":\"BasicTicker\"},\"visible\":false},\"id\":\"7429\",\"type\":\"LinearAxis\"},{\"attributes\":{\"items\":[{\"id\":\"7451\",\"type\":\"LegendItem\"}]},\"id\":\"7450\",\"type\":\"Legend\"},{\"attributes\":{},\"id\":\"7422\",\"type\":\"LinearScale\"},{\"attributes\":{\"callback\":null,\"tooltips\":\"@class: @value\"},\"id\":\"7434\",\"type\":\"HoverTool\"},{\"attributes\":{\"callback\":null,\"data\":{\"angle\":{\"__ndarray__\":\"W41uvwiJGECy97OaUh7DPw==\",\"dtype\":\"float64\",\"shape\":[2]},\"class\":[\"Downloaded Videos (631604)\",\"Failed Videos (15380)\"],\"color\":[\"#3182bd\",\"#fd8d3c\"],\"index\":[0,1],\"value\":[631604,15380]},\"selected\":{\"id\":\"7639\",\"type\":\"Selection\"},\"selection_policy\":{\"id\":\"7640\",\"type\":\"UnionRenderers\"}},\"id\":\"7439\",\"type\":\"ColumnDataSource\"},{\"attributes\":{\"field\":\"angle\"},\"id\":\"7438\",\"type\":\"CumSum\"},{\"attributes\":{\"active_drag\":\"auto\",\"active_inspect\":\"auto\",\"active_multi\":null,\"active_scroll\":\"auto\",\"active_tap\":\"auto\",\"tools\":[{\"id\":\"7434\",\"type\":\"HoverTool\"}]},\"id\":\"7435\",\"type\":\"Toolbar\"},{\"attributes\":{},\"id\":\"7640\",\"type\":\"UnionRenderers\"},{\"attributes\":{\"text\":\"Downloaded Class Distribution\"},\"id\":\"7414\",\"type\":\"Title\"},{\"attributes\":{},\"id\":\"7447\",\"type\":\"BasicTickFormatter\"},{\"attributes\":{},\"id\":\"7639\",\"type\":\"Selection\"}],\"root_ids\":[\"7413\"]},\"title\":\"Bokeh Application\",\"version\":\"1.1.0\"}};\n",
       "  var render_items = [{\"docid\":\"44715255-002c-4b30-9fea-232de267d234\",\"roots\":{\"7413\":\"329bdfc3-b8d7-4e12-953b-35e01ca77a85\"}}];\n",
       "  root.Bokeh.embed.embed_items_notebook(docs_json, render_items);\n",
       "\n",
       "  }\n",
       "  if (root.Bokeh !== undefined) {\n",
       "    embed_document(root);\n",
       "  } else {\n",
       "    var attempts = 0;\n",
       "    var timer = setInterval(function(root) {\n",
       "      if (root.Bokeh !== undefined) {\n",
       "        embed_document(root);\n",
       "        clearInterval(timer);\n",
       "      }\n",
       "      attempts++;\n",
       "      if (attempts > 100) {\n",
       "        console.log(\"Bokeh: ERROR: Unable to run BokehJS code because BokehJS library is missing\");\n",
       "        clearInterval(timer);\n",
       "      }\n",
       "    }, 10, root)\n",
       "  }\n",
       "})(window);"
      ],
      "application/vnd.bokehjs_exec.v0+json": ""
     },
     "metadata": {
      "application/vnd.bokehjs_exec.v0+json": {
       "id": "7413"
      }
     },
     "output_type": "display_data"
    },
    {
     "name": "stdout",
     "output_type": "stream",
     "text": [
      "{'test (65253)': 10.13, 'train (540461)': 83.94, 'val (38168)': 5.93}\n"
     ]
    },
    {
     "data": {
      "text/html": [
       "\n",
       "\n",
       "\n",
       "\n",
       "\n",
       "\n",
       "  <div class=\"bk-root\" id=\"c3cc8cb3-7721-4b61-a70e-bce1285545a6\" data-root-id=\"7754\"></div>\n"
      ]
     },
     "metadata": {},
     "output_type": "display_data"
    },
    {
     "data": {
      "application/javascript": [
       "(function(root) {\n",
       "  function embed_document(root) {\n",
       "    \n",
       "  var docs_json = {\"56edc432-bc12-44ce-9bb7-161031c50241\":{\"roots\":{\"references\":[{\"attributes\":{\"below\":[{\"id\":\"7765\",\"type\":\"LinearAxis\"}],\"center\":[{\"id\":\"7769\",\"type\":\"Grid\"},{\"id\":\"7774\",\"type\":\"Grid\"},{\"id\":\"7791\",\"type\":\"Legend\"}],\"left\":[{\"id\":\"7770\",\"type\":\"LinearAxis\"}],\"plot_height\":400,\"plot_width\":700,\"renderers\":[{\"id\":\"7784\",\"type\":\"GlyphRenderer\"}],\"title\":{\"id\":\"7755\",\"type\":\"Title\"},\"toolbar\":{\"id\":\"7776\",\"type\":\"Toolbar\"},\"toolbar_location\":null,\"x_range\":{\"id\":\"7757\",\"type\":\"Range1d\"},\"x_scale\":{\"id\":\"7761\",\"type\":\"LinearScale\"},\"y_range\":{\"id\":\"7759\",\"type\":\"DataRange1d\"},\"y_scale\":{\"id\":\"7763\",\"type\":\"LinearScale\"}},\"id\":\"7754\",\"subtype\":\"Figure\",\"type\":\"Plot\"},{\"attributes\":{\"callback\":null,\"tooltips\":\"@class: @value\"},\"id\":\"7775\",\"type\":\"HoverTool\"},{\"attributes\":{\"axis_label\":null,\"formatter\":{\"id\":\"7790\",\"type\":\"BasicTickFormatter\"},\"ticker\":{\"id\":\"7771\",\"type\":\"BasicTicker\"},\"visible\":false},\"id\":\"7770\",\"type\":\"LinearAxis\"},{\"attributes\":{\"end_angle\":{\"expr\":{\"id\":\"7779\",\"type\":\"CumSum\"},\"units\":\"rad\"},\"fill_color\":{\"field\":\"color\"},\"line_color\":{\"value\":\"white\"},\"radius\":{\"units\":\"data\",\"value\":0.4},\"start_angle\":{\"expr\":{\"id\":\"7778\",\"type\":\"CumSum\"},\"units\":\"rad\"},\"x\":{\"value\":0},\"y\":{\"value\":1}},\"id\":\"7782\",\"type\":\"Wedge\"},{\"attributes\":{\"axis_label\":null,\"formatter\":{\"id\":\"7788\",\"type\":\"BasicTickFormatter\"},\"ticker\":{\"id\":\"7766\",\"type\":\"BasicTicker\"},\"visible\":false},\"id\":\"7765\",\"type\":\"LinearAxis\"},{\"attributes\":{\"field\":\"angle\"},\"id\":\"7779\",\"type\":\"CumSum\"},{\"attributes\":{\"callback\":null},\"id\":\"7759\",\"type\":\"DataRange1d\"},{\"attributes\":{\"grid_line_color\":{\"value\":null},\"ticker\":{\"id\":\"7766\",\"type\":\"BasicTicker\"}},\"id\":\"7769\",\"type\":\"Grid\"},{\"attributes\":{\"data_source\":{\"id\":\"7780\",\"type\":\"ColumnDataSource\"},\"glyph\":{\"id\":\"7782\",\"type\":\"Wedge\"},\"hover_glyph\":null,\"muted_glyph\":null,\"nonselection_glyph\":{\"id\":\"7783\",\"type\":\"Wedge\"},\"selection_glyph\":null,\"view\":{\"id\":\"7785\",\"type\":\"CDSView\"}},\"id\":\"7784\",\"type\":\"GlyphRenderer\"},{\"attributes\":{},\"id\":\"7987\",\"type\":\"Selection\"},{\"attributes\":{\"callback\":null,\"data\":{\"angle\":{\"__ndarray__\":\"xrpOg4wYFUAykkZCUWDkP7gAyopK1tc/\",\"dtype\":\"float64\",\"shape\":[3]},\"class\":[\"train (540461)\",\"test (65253)\",\"val (38168)\"],\"color\":[\"#1f77b4\",\"#aec7e8\",\"#ff7f0e\"],\"index\":[0,1,2],\"value\":[540461,65253,38168]},\"selected\":{\"id\":\"7987\",\"type\":\"Selection\"},\"selection_policy\":{\"id\":\"7988\",\"type\":\"UnionRenderers\"}},\"id\":\"7780\",\"type\":\"ColumnDataSource\"},{\"attributes\":{},\"id\":\"7766\",\"type\":\"BasicTicker\"},{\"attributes\":{},\"id\":\"7790\",\"type\":\"BasicTickFormatter\"},{\"attributes\":{},\"id\":\"7788\",\"type\":\"BasicTickFormatter\"},{\"attributes\":{\"source\":{\"id\":\"7780\",\"type\":\"ColumnDataSource\"}},\"id\":\"7785\",\"type\":\"CDSView\"},{\"attributes\":{\"items\":[{\"id\":\"7792\",\"type\":\"LegendItem\"}]},\"id\":\"7791\",\"type\":\"Legend\"},{\"attributes\":{\"end_angle\":{\"expr\":{\"id\":\"7779\",\"type\":\"CumSum\"},\"units\":\"rad\"},\"fill_alpha\":{\"value\":0.1},\"fill_color\":{\"value\":\"#1f77b4\"},\"line_alpha\":{\"value\":0.1},\"line_color\":{\"value\":\"#1f77b4\"},\"radius\":{\"units\":\"data\",\"value\":0.4},\"start_angle\":{\"expr\":{\"id\":\"7778\",\"type\":\"CumSum\"},\"units\":\"rad\"},\"x\":{\"value\":0},\"y\":{\"value\":1}},\"id\":\"7783\",\"type\":\"Wedge\"},{\"attributes\":{\"field\":\"angle\",\"include_zero\":true},\"id\":\"7778\",\"type\":\"CumSum\"},{\"attributes\":{\"label\":{\"field\":\"class\"},\"renderers\":[{\"id\":\"7784\",\"type\":\"GlyphRenderer\"}]},\"id\":\"7792\",\"type\":\"LegendItem\"},{\"attributes\":{},\"id\":\"7761\",\"type\":\"LinearScale\"},{\"attributes\":{},\"id\":\"7988\",\"type\":\"UnionRenderers\"},{\"attributes\":{\"callback\":null,\"start\":-0.5},\"id\":\"7757\",\"type\":\"Range1d\"},{\"attributes\":{\"dimension\":1,\"grid_line_color\":{\"value\":null},\"ticker\":{\"id\":\"7771\",\"type\":\"BasicTicker\"}},\"id\":\"7774\",\"type\":\"Grid\"},{\"attributes\":{},\"id\":\"7763\",\"type\":\"LinearScale\"},{\"attributes\":{\"active_drag\":\"auto\",\"active_inspect\":\"auto\",\"active_multi\":null,\"active_scroll\":\"auto\",\"active_tap\":\"auto\",\"tools\":[{\"id\":\"7775\",\"type\":\"HoverTool\"}]},\"id\":\"7776\",\"type\":\"Toolbar\"},{\"attributes\":{\"text\":\"Downloaded Split Class Distribution\"},\"id\":\"7755\",\"type\":\"Title\"},{\"attributes\":{},\"id\":\"7771\",\"type\":\"BasicTicker\"}],\"root_ids\":[\"7754\"]},\"title\":\"Bokeh Application\",\"version\":\"1.1.0\"}};\n",
       "  var render_items = [{\"docid\":\"56edc432-bc12-44ce-9bb7-161031c50241\",\"roots\":{\"7754\":\"c3cc8cb3-7721-4b61-a70e-bce1285545a6\"}}];\n",
       "  root.Bokeh.embed.embed_items_notebook(docs_json, render_items);\n",
       "\n",
       "  }\n",
       "  if (root.Bokeh !== undefined) {\n",
       "    embed_document(root);\n",
       "  } else {\n",
       "    var attempts = 0;\n",
       "    var timer = setInterval(function(root) {\n",
       "      if (root.Bokeh !== undefined) {\n",
       "        embed_document(root);\n",
       "        clearInterval(timer);\n",
       "      }\n",
       "      attempts++;\n",
       "      if (attempts > 100) {\n",
       "        console.log(\"Bokeh: ERROR: Unable to run BokehJS code because BokehJS library is missing\");\n",
       "        clearInterval(timer);\n",
       "      }\n",
       "    }, 10, root)\n",
       "  }\n",
       "})(window);"
      ],
      "application/vnd.bokehjs_exec.v0+json": ""
     },
     "metadata": {
      "application/vnd.bokehjs_exec.v0+json": {
       "id": "7754"
      }
     },
     "output_type": "display_data"
    }
   ],
   "source": [
    "def render_overall_results():\n",
    "    kinetics_count = len(kinetics_keys_dict.keys())\n",
    "    \n",
    "    downloaded_count = len([key for key in results_keys_dict.keys() if kinetics_keys_dict.get(key)])\n",
    "    failed_count = sum([len(value) for value in error_dict.values()])\n",
    "    \n",
    "    total_count = failed_count + downloaded_count\n",
    "    \n",
    "    missing_count = kinetics_count - total_count\n",
    "    print(\"{} %\".format(100 * failed_count / total_count))\n",
    "    \n",
    "    pie_dict = {\n",
    "        'Downloaded Videos ({})'.format(downloaded_count): downloaded_count,\n",
    "        'Failed Videos ({})'.format(failed_count): failed_count\n",
    "    }\n",
    "    plot_pie_chart(pie_dict, 'Downloaded')\n",
    "    \n",
    "    split_counter = Counter([v['folder'] for v in results_keys_dict.values()])\n",
    "    split_counter_pie = { \"{} ({})\".format(k, v): v for k,v in sorted(split_counter.items(), key=lambda x: x[1], reverse=True)}\n",
    "    \n",
    "    tot = sum([v for v in split_counter.values()])\n",
    "    split_counter_pie_frac = { \"{} ({})\".format(k, v): round(100 * v / tot, 2) for k,v in split_counter.items()}\n",
    "    print(split_counter_pie_frac)\n",
    "    \n",
    "    plot_pie_chart(split_counter_pie, 'Downloaded Split')\n",
    "    \n",
    "render_overall_results()"
   ]
  },
  {
   "cell_type": "markdown",
   "metadata": {},
   "source": [
    "## Stats Results"
   ]
  },
  {
   "cell_type": "code",
   "execution_count": 18,
   "metadata": {},
   "outputs": [],
   "source": [
    "stats_df = pd.DataFrame(stat_results.values())"
   ]
  },
  {
   "cell_type": "code",
   "execution_count": 19,
   "metadata": {},
   "outputs": [
    {
     "name": "stdout",
     "output_type": "stream",
     "text": [
      "\n",
      "\n",
      "Mean \n",
      " average_duration      20.959834\n",
      "download_duration     21.469640\n",
      "ffmpeg_duration        2.054902\n",
      "download_dominates     0.983285\n",
      "ffmpeg_dominates       0.016715\n",
      "total_duration        23.524541\n",
      "dtype: float64\n",
      "\n",
      "\n",
      "Max \n",
      " average_duration        273.4\n",
      "download_duration     11223.7\n",
      "ffmpeg_duration         488.9\n",
      "download_dominates        1.0\n",
      "ffmpeg_dominates          1.0\n",
      "total_duration        11246.6\n",
      "dtype: float64\n",
      "\n",
      "\n",
      "Total Download Time 176.15742897643312\n",
      "Total Quantile Download Time 80.70279296939054\n",
      "|-----------|----------------|-------------------|-----------------|\n",
      "|           | Total Duration | Download Duration | FFMPEG Duration |\n",
      "| Full Mean | 23.52          | 21.47             | 2.05            |\n",
      "| Full Max  | 11246.6        | 11223.7           | 488.9           |\n",
      "| IQR Mean  | 10.78          | 9.58              | 1.2             |\n",
      "| IQR Max   | 48.8           | 45.1              | 3.8             |\n"
     ]
    },
    {
     "data": {
      "text/html": [
       "<table>\n",
       "<tbody>\n",
       "<tr><td>         </td><td>Total Duration</td><td>Download Duration</td><td>FFMPEG Duration</td></tr>\n",
       "<tr><td>Full Mean</td><td>23.52         </td><td>21.47            </td><td>2.05           </td></tr>\n",
       "<tr><td>Full Max </td><td>11246.6       </td><td>11223.7          </td><td>488.9          </td></tr>\n",
       "<tr><td>IQR Mean </td><td>10.78         </td><td>9.58             </td><td>1.2            </td></tr>\n",
       "<tr><td>IQR Max  </td><td>48.8          </td><td>45.1             </td><td>3.8            </td></tr>\n",
       "</tbody>\n",
       "</table>"
      ],
      "text/plain": [
       "<IPython.core.display.HTML object>"
      ]
     },
     "metadata": {},
     "output_type": "display_data"
    },
    {
     "name": "stdout",
     "output_type": "stream",
     "text": [
      "total_dom 298651\n",
      "\n",
      "\n",
      "Download Dominates 293659\n",
      "FFMPEG Dominates 4992\n",
      "Frac FFMPEG Dominates 1.6715162514105093\n"
     ]
    },
    {
     "data": {
      "text/html": [
       "\n",
       "\n",
       "\n",
       "\n",
       "\n",
       "\n",
       "  <div class=\"bk-root\" id=\"333b12b9-3e98-4a8f-a03d-2cf749238cdd\" data-root-id=\"1327\"></div>\n"
      ]
     },
     "metadata": {},
     "output_type": "display_data"
    },
    {
     "data": {
      "application/javascript": [
       "(function(root) {\n",
       "  function embed_document(root) {\n",
       "    \n",
       "  var docs_json = {\"b90696d3-9543-43b5-bdf5-47595955e3b2\":{\"roots\":{\"references\":[{\"attributes\":{\"below\":[{\"id\":\"1338\",\"type\":\"LinearAxis\"}],\"center\":[{\"id\":\"1342\",\"type\":\"Grid\"},{\"id\":\"1347\",\"type\":\"Grid\"},{\"id\":\"1364\",\"type\":\"Legend\"}],\"left\":[{\"id\":\"1343\",\"type\":\"LinearAxis\"}],\"plot_height\":400,\"plot_width\":700,\"renderers\":[{\"id\":\"1357\",\"type\":\"GlyphRenderer\"}],\"title\":{\"id\":\"1328\",\"type\":\"Title\"},\"toolbar\":{\"id\":\"1349\",\"type\":\"Toolbar\"},\"toolbar_location\":null,\"x_range\":{\"id\":\"1330\",\"type\":\"Range1d\"},\"x_scale\":{\"id\":\"1334\",\"type\":\"LinearScale\"},\"y_range\":{\"id\":\"1332\",\"type\":\"DataRange1d\"},\"y_scale\":{\"id\":\"1336\",\"type\":\"LinearScale\"}},\"id\":\"1327\",\"subtype\":\"Figure\",\"type\":\"Plot\"},{\"attributes\":{},\"id\":\"1336\",\"type\":\"LinearScale\"},{\"attributes\":{\"data_source\":{\"id\":\"1353\",\"type\":\"ColumnDataSource\"},\"glyph\":{\"id\":\"1355\",\"type\":\"Wedge\"},\"hover_glyph\":null,\"muted_glyph\":null,\"nonselection_glyph\":{\"id\":\"1356\",\"type\":\"Wedge\"},\"selection_glyph\":null,\"view\":{\"id\":\"1358\",\"type\":\"CDSView\"}},\"id\":\"1357\",\"type\":\"GlyphRenderer\"},{\"attributes\":{},\"id\":\"1339\",\"type\":\"BasicTicker\"},{\"attributes\":{\"source\":{\"id\":\"1353\",\"type\":\"ColumnDataSource\"}},\"id\":\"1358\",\"type\":\"CDSView\"},{\"attributes\":{},\"id\":\"1361\",\"type\":\"BasicTickFormatter\"},{\"attributes\":{\"field\":\"angle\",\"include_zero\":true},\"id\":\"1351\",\"type\":\"CumSum\"},{\"attributes\":{},\"id\":\"1363\",\"type\":\"BasicTickFormatter\"},{\"attributes\":{\"label\":{\"field\":\"class\"},\"renderers\":[{\"id\":\"1357\",\"type\":\"GlyphRenderer\"}]},\"id\":\"1365\",\"type\":\"LegendItem\"},{\"attributes\":{\"grid_line_color\":{\"value\":null},\"ticker\":{\"id\":\"1339\",\"type\":\"BasicTicker\"}},\"id\":\"1342\",\"type\":\"Grid\"},{\"attributes\":{\"axis_label\":null,\"formatter\":{\"id\":\"1363\",\"type\":\"BasicTickFormatter\"},\"ticker\":{\"id\":\"1344\",\"type\":\"BasicTicker\"},\"visible\":false},\"id\":\"1343\",\"type\":\"LinearAxis\"},{\"attributes\":{},\"id\":\"1385\",\"type\":\"Selection\"},{\"attributes\":{},\"id\":\"1344\",\"type\":\"BasicTicker\"},{\"attributes\":{},\"id\":\"1386\",\"type\":\"UnionRenderers\"},{\"attributes\":{\"dimension\":1,\"grid_line_color\":{\"value\":null},\"ticker\":{\"id\":\"1344\",\"type\":\"BasicTicker\"}},\"id\":\"1347\",\"type\":\"Grid\"},{\"attributes\":{\"active_drag\":\"auto\",\"active_inspect\":\"auto\",\"active_multi\":null,\"active_scroll\":\"auto\",\"active_tap\":\"auto\",\"tools\":[{\"id\":\"1348\",\"type\":\"HoverTool\"}]},\"id\":\"1349\",\"type\":\"Toolbar\"},{\"attributes\":{\"callback\":null,\"tooltips\":\"@class: @value\"},\"id\":\"1348\",\"type\":\"HoverTool\"},{\"attributes\":{\"callback\":null,\"data\":{\"angle\":{\"__ndarray__\":\"G9vTy2+2GEA4fxQc4uK6Pw==\",\"dtype\":\"float64\",\"shape\":[2]},\"class\":[\"Download Dominates (293659)\",\"FFMPEG Dominates (4992)\"],\"color\":[\"#3182bd\",\"#fd8d3c\"],\"index\":[0,1],\"value\":[293659,4992]},\"selected\":{\"id\":\"1385\",\"type\":\"Selection\"},\"selection_policy\":{\"id\":\"1386\",\"type\":\"UnionRenderers\"}},\"id\":\"1353\",\"type\":\"ColumnDataSource\"},{\"attributes\":{\"text\":\"Dominates Class Distribution\"},\"id\":\"1328\",\"type\":\"Title\"},{\"attributes\":{\"field\":\"angle\"},\"id\":\"1352\",\"type\":\"CumSum\"},{\"attributes\":{\"callback\":null},\"id\":\"1332\",\"type\":\"DataRange1d\"},{\"attributes\":{\"callback\":null,\"start\":-0.5},\"id\":\"1330\",\"type\":\"Range1d\"},{\"attributes\":{\"items\":[{\"id\":\"1365\",\"type\":\"LegendItem\"}]},\"id\":\"1364\",\"type\":\"Legend\"},{\"attributes\":{},\"id\":\"1334\",\"type\":\"LinearScale\"},{\"attributes\":{\"end_angle\":{\"expr\":{\"id\":\"1352\",\"type\":\"CumSum\"},\"units\":\"rad\"},\"fill_alpha\":{\"value\":0.1},\"fill_color\":{\"value\":\"#1f77b4\"},\"line_alpha\":{\"value\":0.1},\"line_color\":{\"value\":\"#1f77b4\"},\"radius\":{\"units\":\"data\",\"value\":0.4},\"start_angle\":{\"expr\":{\"id\":\"1351\",\"type\":\"CumSum\"},\"units\":\"rad\"},\"x\":{\"value\":0},\"y\":{\"value\":1}},\"id\":\"1356\",\"type\":\"Wedge\"},{\"attributes\":{\"end_angle\":{\"expr\":{\"id\":\"1352\",\"type\":\"CumSum\"},\"units\":\"rad\"},\"fill_color\":{\"field\":\"color\"},\"line_color\":{\"value\":\"white\"},\"radius\":{\"units\":\"data\",\"value\":0.4},\"start_angle\":{\"expr\":{\"id\":\"1351\",\"type\":\"CumSum\"},\"units\":\"rad\"},\"x\":{\"value\":0},\"y\":{\"value\":1}},\"id\":\"1355\",\"type\":\"Wedge\"},{\"attributes\":{\"axis_label\":null,\"formatter\":{\"id\":\"1361\",\"type\":\"BasicTickFormatter\"},\"ticker\":{\"id\":\"1339\",\"type\":\"BasicTicker\"},\"visible\":false},\"id\":\"1338\",\"type\":\"LinearAxis\"}],\"root_ids\":[\"1327\"]},\"title\":\"Bokeh Application\",\"version\":\"1.1.0\"}};\n",
       "  var render_items = [{\"docid\":\"b90696d3-9543-43b5-bdf5-47595955e3b2\",\"roots\":{\"1327\":\"333b12b9-3e98-4a8f-a03d-2cf749238cdd\"}}];\n",
       "  root.Bokeh.embed.embed_items_notebook(docs_json, render_items);\n",
       "\n",
       "  }\n",
       "  if (root.Bokeh !== undefined) {\n",
       "    embed_document(root);\n",
       "  } else {\n",
       "    var attempts = 0;\n",
       "    var timer = setInterval(function(root) {\n",
       "      if (root.Bokeh !== undefined) {\n",
       "        embed_document(root);\n",
       "        clearInterval(timer);\n",
       "      }\n",
       "      attempts++;\n",
       "      if (attempts > 100) {\n",
       "        console.log(\"Bokeh: ERROR: Unable to run BokehJS code because BokehJS library is missing\");\n",
       "        clearInterval(timer);\n",
       "      }\n",
       "    }, 10, root)\n",
       "  }\n",
       "})(window);"
      ],
      "application/vnd.bokehjs_exec.v0+json": ""
     },
     "metadata": {
      "application/vnd.bokehjs_exec.v0+json": {
       "id": "1327"
      }
     },
     "output_type": "display_data"
    }
   ],
   "source": [
    "def remove_outlier(df_in, col_name):\n",
    "    q1 = df_in[col_name].quantile(0.25)\n",
    "    q3 = df_in[col_name].quantile(0.75)\n",
    "    iqr = q3 - q1 #Interquartile range\n",
    "    fence_low = q1 - 1.5 * iqr\n",
    "    fence_high = q3 + 1.5 * iqr\n",
    "    df_out = df_in.loc[(df_in[col_name] > fence_low) & (df_in[col_name] < fence_high)]\n",
    "    return df_out\n",
    "\n",
    "def get_quantile_stats(df):\n",
    "    df = remove_outlier(df, 'download_duration')\n",
    "    df = remove_outlier(df, 'ffmpeg_duration')\n",
    "#     print(\"\\n\\nQuantile Mean \\n\", df.mean())\n",
    "#     print(\"\\n\\nQuantile Max \\n\", df.max())\n",
    "    return df\n",
    "\n",
    "def get_download_time(df):\n",
    "    return df['total_duration'].mean() * len(kinetics_data.keys()) / (3600 * 24)\n",
    "\n",
    "def _round(val):\n",
    "    return round(val, 2)\n",
    "\n",
    "def render_table(ls_df):\n",
    "    data = [['', 'Total Duration', 'Download Duration', 'FFMPEG Duration']]\n",
    "    for label, df in ls_df:\n",
    "        data.append([\n",
    "            label,\n",
    "            _round(df['total_duration']),\n",
    "            _round(df['download_duration']),\n",
    "            _round(df['ffmpeg_duration'])\n",
    "        ])\n",
    "    \n",
    "    print(tabulate.tabulate(data, tablefmt='github'))\n",
    "    display(HTML(tabulate.tabulate(data, tablefmt='html')))\n",
    "        \n",
    "        \n",
    "def get_stats_results():\n",
    "#     print(stats_df.head())\n",
    "    df = stats_df[[\n",
    "        'average_duration',\n",
    "        'download_duration',\n",
    "        # 'elapsed',\n",
    "        'ffmpeg_duration'\n",
    "    ]].astype(float)\n",
    "    \n",
    "    df['download_dominates'] = np.where((df['download_duration'] > df['ffmpeg_duration']), 1, 0)\n",
    "    df['ffmpeg_dominates'] = np.where((df['download_duration'] <= df['ffmpeg_duration']), 1, 0)\n",
    "    \n",
    "    df['total_duration'] = df['download_duration'] + df['ffmpeg_duration']\n",
    "#     df.sort_values(by='average_duration').reset_index(drop=True)\n",
    "    \n",
    "#     print(\"Average Duration: \", df[\"total_duration\"].mean(), df[\"total_duration\"].max())\n",
    "    \n",
    "    print(\"\\n\\nMean \\n\", df.mean())\n",
    "    print(\"\\n\\nMax \\n\", df.max())\n",
    "    \n",
    "#     print(\"Average Duration: \", df[\"total_duration\"].mean(), df[\"total_duration\"].max())\n",
    "#     print(\"Average Download Duration: \", df[\"download_duration\"].mean(), df[\"download_duration\"].max())\n",
    "#     print(\"Average FFMPEG Duration: \", df[\"ffmpeg_duration\"].mean(), df[\"ffmpeg_duration\"].max(), df[\"ffmpeg_duration\"].std())\n",
    "    \n",
    "    df_quantile = get_quantile_stats(df)\n",
    "    \n",
    "    print('\\n\\nTotal Download Time', get_download_time(df))\n",
    "    print('Total Quantile Download Time', get_download_time(df_quantile))\n",
    "    \n",
    "    df_do_dom = df[df[\"download_dominates\"] == 1]\n",
    "    df_ff_dom = df[df[\"ffmpeg_dominates\"] == 1]\n",
    "    \n",
    "    df_ff_dom_q = get_quantile_stats(df_ff_dom)\n",
    "#     print(\"\\n\\nFFMPEG Dominates Mean \\n\", df_ff_dom_q.mean())\n",
    "#     print(\"\\n\\nFFMPEG Dominates Max \\n\", df_ff_dom_q.max())\n",
    "    \n",
    "    render_table([\n",
    "        ['Full Mean', df.mean()],\n",
    "        ['Full Max', df.max()],\n",
    "        \n",
    "        ['IQR Mean', df_quantile.mean()],\n",
    "        ['IQR Max', df_quantile.max()],\n",
    "        \n",
    "#         ['FFMPEG Dominates Mean', df_ff_dom_q.mean()],\n",
    "#         ['FFMPEG Dominates Max', df_ff_dom_q.max()],\n",
    "    ])\n",
    "    \n",
    "    total_dom = len(df_ff_dom) + len(df_do_dom)\n",
    "    print(\"total_dom\", total_dom)\n",
    "    print(\"\\n\\nDownload Dominates\", len(df_do_dom))\n",
    "    print(\"FFMPEG Dominates\", len(df_ff_dom))\n",
    "    print(\"Frac FFMPEG Dominates\", 100 * len(df_ff_dom) / total_dom )\n",
    "    \n",
    "    pie_dict = {\n",
    "        \"Download Dominates ({})\".format(len(df_do_dom)): len(df_do_dom),\n",
    "        \"FFMPEG Dominates ({})\".format(len(df_ff_dom)): len(df_ff_dom),\n",
    "    }\n",
    "    plot_pie_chart(pie_dict, 'Dominates')\n",
    "    \n",
    "    # print(df[\"download_duration\"].quantile(0.75))\n",
    "    \n",
    "#     p = figure(plot_width=300, plot_height=300)\n",
    "#     p.multi_line(\n",
    "#         xs=[df1.index.values] * 2,\n",
    "#         ys=[df1['download_duration'].values, df1['ffmpeg_duration'].values],\n",
    "#         color=['red','green']\n",
    "#     )\n",
    "\n",
    "#     show(p)\n",
    "get_stats_results()"
   ]
  },
  {
   "cell_type": "markdown",
   "metadata": {},
   "source": [
    "# Kinetics"
   ]
  },
  {
   "cell_type": "code",
   "execution_count": 20,
   "metadata": {},
   "outputs": [],
   "source": [
    "# import shutil\n",
    "\n",
    "# def move_non_kinetics_data():\n",
    "#     ROOT = Path(\"/Volumes/Extreme SSD/Kinetics/kinetics-gif\")\n",
    "#     m = 0\n",
    "#     t = 0\n",
    "#     for path in ['val', 'train']:\n",
    "#         f1 = ROOT / path\n",
    "#         if f1.exists():\n",
    "#             for f2 in f1.iterdir():\n",
    "#                 non_700_path = ROOT / \"{}_not_700\" .format(path) / f2.stem\n",
    "#                 non_700_path.mkdir(exist_ok=True, parents=True)\n",
    "            \n",
    "#                 for f3 in f2.iterdir():\n",
    "#                     t += 1\n",
    "#                     if not kinetics_keys_dict.get(f3.stem):\n",
    "#                         m += 1\n",
    "#                         shutil.move(str(f3), str(non_700_path))\n",
    "#                         print(\"Moving :\", f3.stem)\n",
    "#     print(t, m)\n",
    "                    \n",
    "# move_non_kinetics_data()"
   ]
  },
  {
   "cell_type": "code",
   "execution_count": 21,
   "metadata": {},
   "outputs": [
    {
     "name": "stdout",
     "output_type": "stream",
     "text": [
      "{136963: 136963, 74071: 74071, 54527: 54527, 29689: 29689, 11757: 11757, 259: 259, 55: 55, 4: 4}\n"
     ]
    },
    {
     "data": {
      "text/html": [
       "\n",
       "\n",
       "\n",
       "\n",
       "\n",
       "\n",
       "  <div class=\"bk-root\" id=\"3c9b2001-ee55-40ce-b199-ad49854afbf0\" data-root-id=\"1500\"></div>\n"
      ]
     },
     "metadata": {},
     "output_type": "display_data"
    },
    {
     "data": {
      "application/javascript": [
       "(function(root) {\n",
       "  function embed_document(root) {\n",
       "    \n",
       "  var docs_json = {\"d91e932e-4117-4eeb-8b4d-71d2f7b5c45a\":{\"roots\":{\"references\":[{\"attributes\":{\"below\":[{\"id\":\"1511\",\"type\":\"LinearAxis\"}],\"center\":[{\"id\":\"1515\",\"type\":\"Grid\"},{\"id\":\"1520\",\"type\":\"Grid\"},{\"id\":\"1537\",\"type\":\"Legend\"}],\"left\":[{\"id\":\"1516\",\"type\":\"LinearAxis\"}],\"plot_height\":400,\"plot_width\":700,\"renderers\":[{\"id\":\"1530\",\"type\":\"GlyphRenderer\"}],\"title\":{\"id\":\"1501\",\"type\":\"Title\"},\"toolbar\":{\"id\":\"1522\",\"type\":\"Toolbar\"},\"toolbar_location\":null,\"x_range\":{\"id\":\"1503\",\"type\":\"Range1d\"},\"x_scale\":{\"id\":\"1507\",\"type\":\"LinearScale\"},\"y_range\":{\"id\":\"1505\",\"type\":\"DataRange1d\"},\"y_scale\":{\"id\":\"1509\",\"type\":\"LinearScale\"}},\"id\":\"1500\",\"subtype\":\"Figure\",\"type\":\"Plot\"},{\"attributes\":{},\"id\":\"1566\",\"type\":\"UnionRenderers\"},{\"attributes\":{\"data_source\":{\"id\":\"1526\",\"type\":\"ColumnDataSource\"},\"glyph\":{\"id\":\"1528\",\"type\":\"Wedge\"},\"hover_glyph\":null,\"muted_glyph\":null,\"nonselection_glyph\":{\"id\":\"1529\",\"type\":\"Wedge\"},\"selection_glyph\":null,\"view\":{\"id\":\"1531\",\"type\":\"CDSView\"}},\"id\":\"1530\",\"type\":\"GlyphRenderer\"},{\"attributes\":{\"field\":\"angle\",\"include_zero\":true},\"id\":\"1524\",\"type\":\"CumSum\"},{\"attributes\":{\"field\":\"angle\"},\"id\":\"1525\",\"type\":\"CumSum\"},{\"attributes\":{\"end_angle\":{\"expr\":{\"id\":\"1525\",\"type\":\"CumSum\"},\"units\":\"rad\"},\"fill_alpha\":{\"value\":0.1},\"fill_color\":{\"value\":\"#1f77b4\"},\"line_alpha\":{\"value\":0.1},\"line_color\":{\"value\":\"#1f77b4\"},\"radius\":{\"units\":\"data\",\"value\":0.4},\"start_angle\":{\"expr\":{\"id\":\"1524\",\"type\":\"CumSum\"},\"units\":\"rad\"},\"x\":{\"value\":0},\"y\":{\"value\":1}},\"id\":\"1529\",\"type\":\"Wedge\"},{\"attributes\":{},\"id\":\"1509\",\"type\":\"LinearScale\"},{\"attributes\":{\"callback\":null,\"start\":-0.5},\"id\":\"1503\",\"type\":\"Range1d\"},{\"attributes\":{\"callback\":null,\"tooltips\":\"@class: @value\"},\"id\":\"1521\",\"type\":\"HoverTool\"},{\"attributes\":{},\"id\":\"1507\",\"type\":\"LinearScale\"},{\"attributes\":{},\"id\":\"1536\",\"type\":\"BasicTickFormatter\"},{\"attributes\":{\"end_angle\":{\"expr\":{\"id\":\"1525\",\"type\":\"CumSum\"},\"units\":\"rad\"},\"fill_color\":{\"field\":\"color\"},\"line_color\":{\"value\":\"white\"},\"radius\":{\"units\":\"data\",\"value\":0.4},\"start_angle\":{\"expr\":{\"id\":\"1524\",\"type\":\"CumSum\"},\"units\":\"rad\"},\"x\":{\"value\":0},\"y\":{\"value\":1}},\"id\":\"1528\",\"type\":\"Wedge\"},{\"attributes\":{\"callback\":null},\"id\":\"1505\",\"type\":\"DataRange1d\"},{\"attributes\":{},\"id\":\"1565\",\"type\":\"Selection\"},{\"attributes\":{\"axis_label\":null,\"formatter\":{\"id\":\"1534\",\"type\":\"BasicTickFormatter\"},\"ticker\":{\"id\":\"1512\",\"type\":\"BasicTicker\"},\"visible\":false},\"id\":\"1511\",\"type\":\"LinearAxis\"},{\"attributes\":{},\"id\":\"1517\",\"type\":\"BasicTicker\"},{\"attributes\":{},\"id\":\"1512\",\"type\":\"BasicTicker\"},{\"attributes\":{\"axis_label\":null,\"formatter\":{\"id\":\"1536\",\"type\":\"BasicTickFormatter\"},\"ticker\":{\"id\":\"1517\",\"type\":\"BasicTicker\"},\"visible\":false},\"id\":\"1516\",\"type\":\"LinearAxis\"},{\"attributes\":{\"grid_line_color\":{\"value\":null},\"ticker\":{\"id\":\"1512\",\"type\":\"BasicTicker\"}},\"id\":\"1515\",\"type\":\"Grid\"},{\"attributes\":{\"source\":{\"id\":\"1526\",\"type\":\"ColumnDataSource\"}},\"id\":\"1531\",\"type\":\"CDSView\"},{\"attributes\":{\"dimension\":1,\"grid_line_color\":{\"value\":null},\"ticker\":{\"id\":\"1517\",\"type\":\"BasicTicker\"}},\"id\":\"1520\",\"type\":\"Grid\"},{\"attributes\":{\"items\":[{\"id\":\"1538\",\"type\":\"LegendItem\"}]},\"id\":\"1537\",\"type\":\"Legend\"},{\"attributes\":{\"active_drag\":\"auto\",\"active_inspect\":\"auto\",\"active_multi\":null,\"active_scroll\":\"auto\",\"active_tap\":\"auto\",\"tools\":[{\"id\":\"1521\",\"type\":\"HoverTool\"}]},\"id\":\"1522\",\"type\":\"Toolbar\"},{\"attributes\":{\"label\":{\"field\":\"class\"},\"renderers\":[{\"id\":\"1530\",\"type\":\"GlyphRenderer\"}]},\"id\":\"1538\",\"type\":\"LegendItem\"},{\"attributes\":{\"text\":\"Longest Run Class Distribution\"},\"id\":\"1501\",\"type\":\"Title\"},{\"attributes\":{},\"id\":\"1534\",\"type\":\"BasicTickFormatter\"},{\"attributes\":{\"callback\":null,\"data\":{\"angle\":{\"__ndarray__\":\"b+0eXsJmBkCNBs5p1Tr4P6sMzG4v1vE/X5oemmps4z9QDQaAacTOP3x8wmBpsHU/6697jlVsUj+Z9oEVGXAVPw==\",\"dtype\":\"float64\",\"shape\":[8]},\"class\":[136963,74071,54527,29689,11757,259,55,4],\"color\":[\"#3182bd\",\"#6baed6\",\"#9ecae1\",\"#c6dbef\",\"#e6550d\",\"#fd8d3c\",\"#fdae6b\",\"#fdd0a2\"],\"index\":[0,1,2,3,4,5,6,7],\"value\":[136963,74071,54527,29689,11757,259,55,4]},\"selected\":{\"id\":\"1565\",\"type\":\"Selection\"},\"selection_policy\":{\"id\":\"1566\",\"type\":\"UnionRenderers\"}},\"id\":\"1526\",\"type\":\"ColumnDataSource\"}],\"root_ids\":[\"1500\"]},\"title\":\"Bokeh Application\",\"version\":\"1.1.0\"}};\n",
       "  var render_items = [{\"docid\":\"d91e932e-4117-4eeb-8b4d-71d2f7b5c45a\",\"roots\":{\"1500\":\"3c9b2001-ee55-40ce-b199-ad49854afbf0\"}}];\n",
       "  root.Bokeh.embed.embed_items_notebook(docs_json, render_items);\n",
       "\n",
       "  }\n",
       "  if (root.Bokeh !== undefined) {\n",
       "    embed_document(root);\n",
       "  } else {\n",
       "    var attempts = 0;\n",
       "    var timer = setInterval(function(root) {\n",
       "      if (root.Bokeh !== undefined) {\n",
       "        embed_document(root);\n",
       "        clearInterval(timer);\n",
       "      }\n",
       "      attempts++;\n",
       "      if (attempts > 100) {\n",
       "        console.log(\"Bokeh: ERROR: Unable to run BokehJS code because BokehJS library is missing\");\n",
       "        clearInterval(timer);\n",
       "      }\n",
       "    }, 10, root)\n",
       "  }\n",
       "})(window);"
      ],
      "application/vnd.bokehjs_exec.v0+json": ""
     },
     "metadata": {
      "application/vnd.bokehjs_exec.v0+json": {
       "id": "1500"
      }
     },
     "output_type": "display_data"
    }
   ],
   "source": [
    "def longest_download_run():\n",
    "    pie_dict = { i:i for i in filter(lambda x: x > 1, sorted(session_dict.values(), reverse=True))}\n",
    "    print(pie_dict)\n",
    "    plot_pie_chart(pie_dict, 'Longest Run')\n",
    "    \n",
    "longest_download_run()"
   ]
  },
  {
   "cell_type": "code",
   "execution_count": null,
   "metadata": {},
   "outputs": [],
   "source": []
  }
 ],
 "metadata": {
  "kernelspec": {
   "display_name": "Python 3",
   "language": "python",
   "name": "python3"
  },
  "language_info": {
   "codemirror_mode": {
    "name": "ipython",
    "version": 3
   },
   "file_extension": ".py",
   "mimetype": "text/x-python",
   "name": "python",
   "nbconvert_exporter": "python",
   "pygments_lexer": "ipython3",
   "version": "3.7.3"
  }
 },
 "nbformat": 4,
 "nbformat_minor": 4
}
